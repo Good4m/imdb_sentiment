{
 "cells": [
  {
   "cell_type": "code",
   "execution_count": 1,
   "id": "7343c843",
   "metadata": {
    "_cell_guid": "b1076dfc-b9ad-4769-8c92-a6c4dae69d19",
    "_uuid": "8f2839f25d086af736a60e9eeb907d3b93b6e0e5",
    "execution": {
     "iopub.execute_input": "2022-01-23T04:52:12.544157Z",
     "iopub.status.busy": "2022-01-23T04:52:12.542385Z",
     "iopub.status.idle": "2022-01-23T04:52:20.479566Z",
     "shell.execute_reply": "2022-01-23T04:52:20.478811Z",
     "shell.execute_reply.started": "2022-01-23T04:02:50.158503Z"
    },
    "papermill": {
     "duration": 7.946545,
     "end_time": "2022-01-23T04:52:20.479828",
     "exception": false,
     "start_time": "2022-01-23T04:52:12.533283",
     "status": "completed"
    },
    "tags": []
   },
   "outputs": [
    {
     "name": "stdout",
     "output_type": "stream",
     "text": [
      "Counter({'to': 3, 'the': 2, 'Scores': 1, 'killed': 1, 'in': 1, 'Pakistan': 1, 'clashes': 1, 'Japan': 1, 'resumes': 1, 'refuelling': 1, 'mission': 1, 'US': 1, 'presses': 1, 'Egypt': 1, 'on': 1, 'Gaza': 1, 'border': 1, 'Jump-start': 1, 'economy:': 1, 'Give': 1, 'health': 1, 'care': 1, 'all': 1, 'Council': 1, 'of': 1, 'Europe': 1, 'bashes': 1, 'EU&UN': 1, 'terror': 1, 'blacklist': 1, 'Hay': 1, 'presto!': 1, 'Farmer': 1, 'unveils': 1, 'illegal': 1, 'mock-Tudor': 1, 'castle': 1, 'he': 1, 'tried': 1, 'hide': 1, 'behind': 1, '40ft': 1, 'hay': 1, 'bales': 1, 'Strikes,': 1, 'Protests': 1, 'and': 1, 'Gridlock': 1, 'at': 1, 'Poland-Ukraine': 1, 'Border': 1, 'The': 1, 'U.N.': 1, 'Mismanagement': 1, 'Program': 1, 'Nicolas': 1, 'Sarkozy': 1, 'threatens': 1, 'sue': 1, 'Ryanair': 1})\n"
     ]
    }
   ],
   "source": [
    "import numpy as np # linear algebra\n",
    "import tensorflow as tf\n",
    "import pandas as pd # data processing, CSV file I/O (e.g. pd.read_csv)\n",
    "import os\n",
    "from collections import Counter\n",
    "#for dirname, _, filenames in os.walk('/kaggle/input'):\n",
    "#    for filename in filenames:\n",
    "#        print(os.path.join(dirname, filename))\n",
    "# You can write up to 20GB to the current directory (/kaggle/working/) that gets preserved as output when you create a version using \"Save & Run All\" \n",
    "# You can also write temporary files to /kaggle/temp/, but they won't be saved outside of the current \n",
    "filename = \"/kaggle/input/worldnews-on-reddit/reddit_worldnews_start_to_2016-11-22.csv\"\n",
    "df = pd.read_csv(filename, usecols=['title'], dtype={'title': 'str'}).pop('title')\n",
    "vocabulary = Counter()\n",
    "i = 0\n",
    "for title in df:\n",
    "    i = i + 1\n",
    "    if (i == 10):\n",
    "        break\n",
    "    vocabulary.update(title.split())\n",
    "print(vocabulary)"
   ]
  },
  {
   "cell_type": "code",
   "execution_count": null,
   "id": "64e19b14",
   "metadata": {
    "papermill": {
     "duration": 0.002684,
     "end_time": "2022-01-23T04:52:20.487249",
     "exception": false,
     "start_time": "2022-01-23T04:52:20.484565",
     "status": "completed"
    },
    "tags": []
   },
   "outputs": [],
   "source": []
  }
 ],
 "metadata": {
  "kernelspec": {
   "display_name": "Python 3",
   "language": "python",
   "name": "python3"
  },
  "language_info": {
   "codemirror_mode": {
    "name": "ipython",
    "version": 3
   },
   "file_extension": ".py",
   "mimetype": "text/x-python",
   "name": "python",
   "nbconvert_exporter": "python",
   "pygments_lexer": "ipython3",
   "version": "3.7.12"
  },
  "papermill": {
   "default_parameters": {},
   "duration": 21.719662,
   "end_time": "2022-01-23T04:52:24.050386",
   "environment_variables": {},
   "exception": null,
   "input_path": "__notebook__.ipynb",
   "output_path": "__notebook__.ipynb",
   "parameters": {},
   "start_time": "2022-01-23T04:52:02.330724",
   "version": "2.3.3"
  }
 },
 "nbformat": 4,
 "nbformat_minor": 5
}

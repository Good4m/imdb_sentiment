{
 "cells": [
  {
   "cell_type": "code",
   "execution_count": 1,
   "id": "c936e9c0",
   "metadata": {
    "_cell_guid": "b1076dfc-b9ad-4769-8c92-a6c4dae69d19",
    "_uuid": "8f2839f25d086af736a60e9eeb907d3b93b6e0e5",
    "execution": {
     "iopub.execute_input": "2022-01-23T07:28:50.782464Z",
     "iopub.status.busy": "2022-01-23T07:28:50.781211Z",
     "iopub.status.idle": "2022-01-23T07:28:58.038956Z",
     "shell.execute_reply": "2022-01-23T07:28:58.039470Z",
     "shell.execute_reply.started": "2022-01-23T07:28:20.024813Z"
    },
    "papermill": {
     "duration": 7.266151,
     "end_time": "2022-01-23T07:28:58.039823",
     "exception": false,
     "start_time": "2022-01-23T07:28:50.773672",
     "status": "completed"
    },
    "tags": []
   },
   "outputs": [
    {
     "name": "stdout",
     "output_type": "stream",
     "text": [
      "[('to', 2753), ('in', 2562), ('the', 2534), ('of', 2350), ('and', 1281), ('for', 1146), ('on', 907), ('The', 760), ('is', 617), ('US', 513), ('with', 492), ('by', 461), ('as', 418), ('at', 379), ('China', 379), ('from', 371), ('U.S.', 364), ('Iraq', 334), ('that', 322), ('are', 294)]\n"
     ]
    }
   ],
   "source": [
    "import numpy as np\n",
    "import tensorflow as tf\n",
    "import pandas as pd\n",
    "import os\n",
    "from collections import Counter\n",
    "\n",
    "filename = \"/kaggle/input/worldnews-on-reddit/reddit_worldnews_start_to_2016-11-22.csv\"\n",
    "df = pd.read_csv(filename, usecols=['title'], dtype={'title': 'str'}).pop('title')\n",
    "\n",
    "def countWordOccurrences(maxRecords, minWordLen, maxWordLen):\n",
    "    vocabulary = Counter()\n",
    "    for title in df:\n",
    "        words = title.split()\n",
    "        validWords = filter(lambda x: len(x) >= minWordLen and len(x) <= maxWordLen, words)\n",
    "        vocabulary.update(validWords)\n",
    "        maxRecords = maxRecords - 1\n",
    "        if (maxRecords == 0):\n",
    "            break\n",
    "    return vocabulary\n",
    "\n",
    "maxRecords = 10000\n",
    "minWordLen = 2\n",
    "maxWordLen = 10\n",
    "\n",
    "# Get word counts\n",
    "words = countWordOccurrences(maxRecords, minWordLen, maxWordLen)\n",
    "print(words.most_common()[:20]) # 20 most common words\n",
    "mostCommonWords = [word for word, count in words.most_common()[:10000]]\n",
    "\n",
    "#print(mostCommonWords)"
   ]
  },
  {
   "cell_type": "code",
   "execution_count": null,
   "id": "a47a28e2",
   "metadata": {
    "papermill": {
     "duration": 0.002989,
     "end_time": "2022-01-23T07:28:58.046766",
     "exception": false,
     "start_time": "2022-01-23T07:28:58.043777",
     "status": "completed"
    },
    "tags": []
   },
   "outputs": [],
   "source": []
  }
 ],
 "metadata": {
  "kernelspec": {
   "display_name": "Python 3",
   "language": "python",
   "name": "python3"
  },
  "language_info": {
   "codemirror_mode": {
    "name": "ipython",
    "version": 3
   },
   "file_extension": ".py",
   "mimetype": "text/x-python",
   "name": "python",
   "nbconvert_exporter": "python",
   "pygments_lexer": "ipython3",
   "version": "3.7.12"
  },
  "papermill": {
   "default_parameters": {},
   "duration": 20.605039,
   "end_time": "2022-01-23T07:29:01.571294",
   "environment_variables": {},
   "exception": null,
   "input_path": "__notebook__.ipynb",
   "output_path": "__notebook__.ipynb",
   "parameters": {},
   "start_time": "2022-01-23T07:28:40.966255",
   "version": "2.3.3"
  }
 },
 "nbformat": 4,
 "nbformat_minor": 5
}

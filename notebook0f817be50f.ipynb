{
 "cells": [
  {
   "cell_type": "code",
   "execution_count": 1,
   "id": "959ca15b",
   "metadata": {
    "_cell_guid": "b1076dfc-b9ad-4769-8c92-a6c4dae69d19",
    "_uuid": "8f2839f25d086af736a60e9eeb907d3b93b6e0e5",
    "execution": {
     "iopub.execute_input": "2022-01-30T05:59:42.621236Z",
     "iopub.status.busy": "2022-01-30T05:59:42.620202Z",
     "iopub.status.idle": "2022-01-30T05:59:50.465289Z",
     "shell.execute_reply": "2022-01-30T05:59:50.465795Z",
     "shell.execute_reply.started": "2022-01-30T05:50:14.239912Z"
    },
    "papermill": {
     "duration": 7.861208,
     "end_time": "2022-01-30T05:59:50.466088",
     "exception": false,
     "start_time": "2022-01-30T05:59:42.604880",
     "status": "completed"
    },
    "tags": []
   },
   "outputs": [
    {
     "name": "stdout",
     "output_type": "stream",
     "text": [
      "Most common words: [('the', 56278), ('a', 31077), ('and', 30115), ('of', 28151), ('to', 26248), ('is', 20373), ('in', 17124), ('I', 13065), ('that', 12535), ('this', 11486)]\n",
      "Test result: tf.Tensor([1377    2 1653   21    6    0 1677], shape=(7,), dtype=int64)\n"
     ]
    },
    {
     "name": "stderr",
     "output_type": "stream",
     "text": [
      "\n",
      "User settings:\n",
      "\n",
      "   KMP_AFFINITY=granularity=fine,verbose,compact,1,0\n",
      "   KMP_BLOCKTIME=0\n",
      "   KMP_SETTINGS=1\n",
      "   KMP_WARNINGS=0\n",
      "\n",
      "Effective settings:\n",
      "\n",
      "   KMP_ABORT_DELAY=0\n",
      "   KMP_ADAPTIVE_LOCK_PROPS='1,1024'\n",
      "   KMP_ALIGN_ALLOC=64\n",
      "   KMP_ALL_THREADPRIVATE=128\n",
      "   KMP_ATOMIC_MODE=2\n",
      "   KMP_BLOCKTIME=0\n",
      "   KMP_CPUINFO_FILE: value is not defined\n",
      "   KMP_DETERMINISTIC_REDUCTION=false\n",
      "   KMP_DEVICE_THREAD_LIMIT=2147483647\n",
      "   KMP_DISP_NUM_BUFFERS=7\n",
      "   KMP_DUPLICATE_LIB_OK=false\n",
      "   KMP_ENABLE_TASK_THROTTLING=true\n",
      "   KMP_FORCE_REDUCTION: value is not defined\n",
      "   KMP_FOREIGN_THREADS_THREADPRIVATE=true\n",
      "   KMP_FORKJOIN_BARRIER='2,2'\n",
      "   KMP_FORKJOIN_BARRIER_PATTERN='hyper,hyper'\n",
      "   KMP_GTID_MODE=3\n",
      "   KMP_HANDLE_SIGNALS=false\n",
      "   KMP_HOT_TEAMS_MAX_LEVEL=1\n",
      "   KMP_HOT_TEAMS_MODE=0\n",
      "   KMP_INIT_AT_FORK=true\n",
      "   KMP_LIBRARY=throughput\n",
      "   KMP_LOCK_KIND=queuing\n",
      "   KMP_MALLOC_POOL_INCR=1M\n",
      "   KMP_NUM_LOCKS_IN_BLOCK=1\n",
      "   KMP_PLAIN_BARRIER='2,2'\n",
      "   KMP_PLAIN_BARRIER_PATTERN='hyper,hyper'\n",
      "   KMP_REDUCTION_BARRIER='1,1'\n",
      "   KMP_REDUCTION_BARRIER_PATTERN='hyper,hyper'\n",
      "   KMP_SCHEDULE='static,balanced;guided,iterative'\n",
      "   KMP_SETTINGS=true\n",
      "   KMP_SPIN_BACKOFF_PARAMS='4096,100'\n",
      "   KMP_STACKOFFSET=64\n",
      "   KMP_STACKPAD=0\n",
      "   KMP_STACKSIZE=8M\n",
      "   KMP_STORAGE_MAP=false\n",
      "   KMP_TASKING=2\n",
      "   KMP_TASKLOOP_MIN_TASKS=0\n",
      "   KMP_TASK_STEALING_CONSTRAINT=1\n",
      "   KMP_TEAMS_THREAD_LIMIT=4\n",
      "   KMP_TOPOLOGY_METHOD=all\n",
      "   KMP_USE_YIELD=1\n",
      "   KMP_VERSION=false\n",
      "   KMP_WARNINGS=false\n",
      "   OMP_AFFINITY_FORMAT='OMP: pid %P tid %i thread %n bound to OS proc set {%A}'\n",
      "   OMP_ALLOCATOR=omp_default_mem_alloc\n",
      "   OMP_CANCELLATION=false\n",
      "   OMP_DEFAULT_DEVICE=0\n",
      "   OMP_DISPLAY_AFFINITY=false\n",
      "   OMP_DISPLAY_ENV=false\n",
      "   OMP_DYNAMIC=false\n",
      "   OMP_MAX_ACTIVE_LEVELS=1\n",
      "   OMP_MAX_TASK_PRIORITY=0\n",
      "   OMP_NESTED: deprecated; max-active-levels-var=1\n",
      "   OMP_NUM_THREADS: value is not defined\n",
      "   OMP_PLACES: value is not defined\n",
      "   OMP_PROC_BIND='intel'\n",
      "   OMP_SCHEDULE='static'\n",
      "   OMP_STACKSIZE=8M\n",
      "   OMP_TARGET_OFFLOAD=DEFAULT\n",
      "   OMP_THREAD_LIMIT=2147483647\n",
      "   OMP_WAIT_POLICY=PASSIVE\n",
      "   KMP_AFFINITY='verbose,warnings,respect,granularity=fine,compact,1,0'\n",
      "\n",
      "2022-01-30 05:59:50.397228: I tensorflow/core/common_runtime/process_util.cc:146] Creating new thread pool with default inter op setting: 2. Tune using inter_op_parallelism_threads for best performance.\n"
     ]
    }
   ],
   "source": [
    "import numpy as np\n",
    "import tensorflow as tf\n",
    "import pandas as pd\n",
    "import tensorflow.keras as keras\n",
    "import os\n",
    "from collections import Counter\n",
    "\n",
    "filename = \"/kaggle/input/imdb-dataset-sentiment-analysis-in-csv-format/Train.csv\"\n",
    "df = pd.read_csv(filename, usecols=['text', 'label'], dtype={'text': 'str', 'label': 'int32'})\n",
    "dfX = df.loc[:, 'text']\n",
    "dfY = df.loc[:, 'label']\n",
    "dfX = dfX[:5000]\n",
    "dfY = dfY[:5000]\n",
    "\n",
    "vocabulary = Counter()\n",
    "for title in dfX:\n",
    "    words = title.split()\n",
    "    validWords = filter(lambda x: len(x) <= 14, words)\n",
    "    vocabulary.update(validWords)\n",
    "\n",
    "# Truncate vocabulary\n",
    "vocab_size = 1000\n",
    "truncatedVocabulary = [word for word, count in vocabulary.most_common()[:vocab_size]]\n",
    "\n",
    "# Print out the 10 most common words and the number of times they occur\n",
    "print(\"Most common words:\", vocabulary.most_common()[:10])\n",
    "\n",
    "# Convert words to tensor\n",
    "words = tf.constant(truncatedVocabulary)\n",
    "\n",
    "# Assign each word an ID\n",
    "word_ids = tf.range(len(truncatedVocabulary), dtype=tf.int64)\n",
    "\n",
    "# Create KeyValueTensor\n",
    "vocab_init = tf.lookup.KeyValueTensorInitializer(words, word_ids)\n",
    "\n",
    "# Create lookup table\n",
    "num_oov_buckets = 1000\n",
    "table = tf.lookup.StaticVocabularyTable(vocab_init, num_oov_buckets)\n",
    "\n",
    "# Test the lookup table\n",
    "testArr = \"China and Iraq are in the dataset\".split()\n",
    "testRes = table.lookup(tf.constant(testArr))\n",
    "print(\"Test result:\", testRes)"
   ]
  },
  {
   "cell_type": "code",
   "execution_count": 2,
   "id": "c18684f9",
   "metadata": {
    "execution": {
     "iopub.execute_input": "2022-01-30T05:59:50.480987Z",
     "iopub.status.busy": "2022-01-30T05:59:50.480378Z",
     "iopub.status.idle": "2022-01-30T06:00:06.233330Z",
     "shell.execute_reply": "2022-01-30T06:00:06.233881Z",
     "shell.execute_reply.started": "2022-01-30T05:50:17.439093Z"
    },
    "papermill": {
     "duration": 15.761671,
     "end_time": "2022-01-30T06:00:06.234088",
     "exception": false,
     "start_time": "2022-01-30T05:59:50.472417",
     "status": "completed"
    },
    "tags": []
   },
   "outputs": [],
   "source": [
    "# Convert sentences to arrays of word ids\n",
    "data = []\n",
    "for title in dfX:\n",
    "    sample = tf.strings.split(title)\n",
    "    processed = table.lookup(sample)\n",
    "    data.append(processed.numpy())\n",
    "\n",
    "# Create a ragged tensor and then convert it to a padded dense tensor\n",
    "ragged = tf.ragged.constant(data)\n",
    "ragged = ragged.to_tensor(default_value=0)\n",
    "#print(ragged)\n",
    "#print(ragged.shape)\n",
    "\n",
    "# Make dataset\n",
    "features = tf.constant(ragged)\n",
    "#print(features.shape)\n",
    "labels = tf.constant(dfY)\n",
    "#print(labels.shape)\n",
    "train_set = tf.data.Dataset.from_tensor_slices((features, labels)).batch(32)\n",
    "#print(next(train_set.batch(32).as_numpy_iterator())[0][0])\n"
   ]
  },
  {
   "cell_type": "code",
   "execution_count": 3,
   "id": "53bb8954",
   "metadata": {
    "execution": {
     "iopub.execute_input": "2022-01-30T06:00:06.250565Z",
     "iopub.status.busy": "2022-01-30T06:00:06.249922Z",
     "iopub.status.idle": "2022-01-30T06:44:17.608271Z",
     "shell.execute_reply": "2022-01-30T06:44:17.607705Z"
    },
    "papermill": {
     "duration": 2651.367693,
     "end_time": "2022-01-30T06:44:17.608410",
     "exception": false,
     "start_time": "2022-01-30T06:00:06.240717",
     "status": "completed"
    },
    "tags": []
   },
   "outputs": [
    {
     "name": "stdout",
     "output_type": "stream",
     "text": [
      "Epoch 1/5\n"
     ]
    },
    {
     "name": "stderr",
     "output_type": "stream",
     "text": [
      "2022-01-30 06:00:09.134726: I tensorflow/compiler/mlir/mlir_graph_optimization_pass.cc:185] None of the MLIR Optimization Passes are enabled (registered 2)\n"
     ]
    },
    {
     "name": "stdout",
     "output_type": "stream",
     "text": [
      "157/157 [==============================] - 532s 3s/step - loss: 0.6935 - accuracy: 0.5160\n",
      "Epoch 2/5\n",
      "157/157 [==============================] - 514s 3s/step - loss: 0.6930 - accuracy: 0.5136\n",
      "Epoch 3/5\n",
      "157/157 [==============================] - 521s 3s/step - loss: 0.6929 - accuracy: 0.5164\n",
      "Epoch 4/5\n",
      "157/157 [==============================] - 517s 3s/step - loss: 0.6928 - accuracy: 0.5164\n",
      "Epoch 5/5\n",
      "157/157 [==============================] - 519s 3s/step - loss: 0.6928 - accuracy: 0.5164\n"
     ]
    }
   ],
   "source": [
    "# Create model\n",
    "embed_size = 128\n",
    "model = keras.models.Sequential([\n",
    "    keras.layers.Embedding(vocab_size + num_oov_buckets, embed_size, input_shape=[None]),\n",
    "    keras.layers.GRU(128, return_sequences=True),\n",
    "    keras.layers.GRU(128),\n",
    "    keras.layers.Dense(1, activation=\"sigmoid\")\n",
    "])\n",
    "model.compile(loss=\"binary_crossentropy\", optimizer=\"adam\", metrics=[\"accuracy\"])\n",
    "history = model.fit(train_set, batch_size=32, epochs=5)"
   ]
  },
  {
   "cell_type": "code",
   "execution_count": 4,
   "id": "1fa8c2e9",
   "metadata": {
    "execution": {
     "iopub.execute_input": "2022-01-30T06:44:18.087609Z",
     "iopub.status.busy": "2022-01-30T06:44:18.086970Z",
     "iopub.status.idle": "2022-01-30T06:44:18.866587Z",
     "shell.execute_reply": "2022-01-30T06:44:18.867081Z",
     "shell.execute_reply.started": "2022-01-30T05:50:11.300456Z"
    },
    "papermill": {
     "duration": 1.021375,
     "end_time": "2022-01-30T06:44:18.867259",
     "exception": false,
     "start_time": "2022-01-30T06:44:17.845884",
     "status": "completed"
    },
    "tags": []
   },
   "outputs": [
    {
     "name": "stdout",
     "output_type": "stream",
     "text": [
      "testing:  tf.Tensor([259   0 823], shape=(3,), dtype=int64)\n",
      "prediction: [[0.48791385]\n",
      " [0.4883399 ]\n",
      " [0.4888257 ]]\n",
      "(3, 1)\n",
      "avg: [0.4883598]\n"
     ]
    }
   ],
   "source": [
    "testArr = tf.strings.split(b\"What the hell\")\n",
    "test = table.lookup(testArr)\n",
    "print(\"testing: \", test)\n",
    "prediction = model.predict(test)\n",
    "print(\"prediction:\", prediction)\n",
    "print(prediction.shape)\n",
    "print(\"avg:\", np.average(prediction, axis=0))"
   ]
  },
  {
   "cell_type": "code",
   "execution_count": null,
   "id": "a8d643d3",
   "metadata": {
    "papermill": {
     "duration": 0.241681,
     "end_time": "2022-01-30T06:44:19.345135",
     "exception": false,
     "start_time": "2022-01-30T06:44:19.103454",
     "status": "completed"
    },
    "tags": []
   },
   "outputs": [],
   "source": []
  }
 ],
 "metadata": {
  "kernelspec": {
   "display_name": "Python 3",
   "language": "python",
   "name": "python3"
  },
  "language_info": {
   "codemirror_mode": {
    "name": "ipython",
    "version": 3
   },
   "file_extension": ".py",
   "mimetype": "text/x-python",
   "name": "python",
   "nbconvert_exporter": "python",
   "pygments_lexer": "ipython3",
   "version": "3.7.12"
  },
  "papermill": {
   "default_parameters": {},
   "duration": 2689.792157,
   "end_time": "2022-01-30T06:44:22.838914",
   "environment_variables": {},
   "exception": null,
   "input_path": "__notebook__.ipynb",
   "output_path": "__notebook__.ipynb",
   "parameters": {},
   "start_time": "2022-01-30T05:59:33.046757",
   "version": "2.3.3"
  }
 },
 "nbformat": 4,
 "nbformat_minor": 5
}

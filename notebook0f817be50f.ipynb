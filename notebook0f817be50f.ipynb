{
 "cells": [
  {
   "cell_type": "code",
   "execution_count": 1,
   "id": "96a53b6b",
   "metadata": {
    "_cell_guid": "b1076dfc-b9ad-4769-8c92-a6c4dae69d19",
    "_uuid": "8f2839f25d086af736a60e9eeb907d3b93b6e0e5",
    "execution": {
     "iopub.execute_input": "2022-01-23T03:11:18.467013Z",
     "iopub.status.busy": "2022-01-23T03:11:18.466164Z",
     "iopub.status.idle": "2022-01-23T03:11:20.654842Z",
     "shell.execute_reply": "2022-01-23T03:11:20.655561Z",
     "shell.execute_reply.started": "2022-01-23T03:09:44.136567Z"
    },
    "papermill": {
     "duration": 2.204788,
     "end_time": "2022-01-23T03:11:20.655918",
     "exception": false,
     "start_time": "2022-01-23T03:11:18.451130",
     "status": "completed"
    },
    "tags": []
   },
   "outputs": [
    {
     "name": "stdout",
     "output_type": "stream",
     "text": [
      "Data loaded\n",
      "                                                    title\n",
      "0                       Scores killed in Pakistan clashes\n",
      "1                        Japan resumes refuelling mission\n",
      "2                         US presses Egypt on Gaza border\n",
      "3            Jump-start economy: Give health care to all \n",
      "4         Council of Europe bashes EU&UN terror blacklist\n",
      "...                                                   ...\n",
      "509231   Heil Trump : Donald Trump s  alt-right  white...\n",
      "509232  There are people speculating that this could b...\n",
      "509233          Professor receives Arab Researchers Award\n",
      "509234  Nigel Farage attacks response to Trump ambassa...\n",
      "509235  Palestinian wielding knife shot dead in West B...\n",
      "\n",
      "[509236 rows x 1 columns]\n"
     ]
    }
   ],
   "source": [
    "import numpy as np # linear algebra\n",
    "import pandas as pd # data processing, CSV file I/O (e.g. pd.read_csv)\n",
    "import os\n",
    "#for dirname, _, filenames in os.walk('/kaggle/input'):\n",
    "#    for filename in filenames:\n",
    "#        print(os.path.join(dirname, filename))\n",
    "# You can write up to 20GB to the current directory (/kaggle/working/) that gets preserved as output when you create a version using \"Save & Run All\" \n",
    "# You can also write temporary files to /kaggle/temp/, but they won't be saved outside of the current \n",
    "df = pd.read_csv(\"/kaggle/input/worldnews-on-reddit/reddit_worldnews_start_to_2016-11-22.csv\", usecols=['title'], dtype={'title': 'str'})\n",
    "print(\"Data loaded\")\n",
    "print(df)\n"
   ]
  },
  {
   "cell_type": "code",
   "execution_count": null,
   "id": "6ef618d4",
   "metadata": {
    "papermill": {
     "duration": 0.003295,
     "end_time": "2022-01-23T03:11:20.663692",
     "exception": false,
     "start_time": "2022-01-23T03:11:20.660397",
     "status": "completed"
    },
    "tags": []
   },
   "outputs": [],
   "source": []
  }
 ],
 "metadata": {
  "kernelspec": {
   "display_name": "Python 3",
   "language": "python",
   "name": "python3"
  },
  "language_info": {
   "codemirror_mode": {
    "name": "ipython",
    "version": 3
   },
   "file_extension": ".py",
   "mimetype": "text/x-python",
   "name": "python",
   "nbconvert_exporter": "python",
   "pygments_lexer": "ipython3",
   "version": "3.7.12"
  },
  "papermill": {
   "default_parameters": {},
   "duration": 13.621296,
   "end_time": "2022-01-23T03:11:21.379253",
   "environment_variables": {},
   "exception": null,
   "input_path": "__notebook__.ipynb",
   "output_path": "__notebook__.ipynb",
   "parameters": {},
   "start_time": "2022-01-23T03:11:07.757957",
   "version": "2.3.3"
  }
 },
 "nbformat": 4,
 "nbformat_minor": 5
}

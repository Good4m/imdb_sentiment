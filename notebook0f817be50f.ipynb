{
 "cells": [
  {
   "cell_type": "code",
   "execution_count": 1,
   "id": "3dc886c8",
   "metadata": {
    "_cell_guid": "b1076dfc-b9ad-4769-8c92-a6c4dae69d19",
    "_uuid": "8f2839f25d086af736a60e9eeb907d3b93b6e0e5",
    "execution": {
     "iopub.execute_input": "2022-01-29T07:24:31.657763Z",
     "iopub.status.busy": "2022-01-29T07:24:31.656996Z",
     "iopub.status.idle": "2022-01-29T07:24:40.157908Z",
     "shell.execute_reply": "2022-01-29T07:24:40.158374Z",
     "shell.execute_reply.started": "2022-01-29T07:19:29.521843Z"
    },
    "papermill": {
     "duration": 8.523564,
     "end_time": "2022-01-29T07:24:40.158648",
     "exception": false,
     "start_time": "2022-01-29T07:24:31.635084",
     "status": "completed"
    },
    "tags": []
   },
   "outputs": [
    {
     "name": "stdout",
     "output_type": "stream",
     "text": [
      "Most common words: [('to', 2753), ('in', 2562), ('the', 2534), ('of', 2350), ('and', 1281), ('a', 1241), ('for', 1146), ('s', 1141), ('on', 907), ('The', 760)]\n",
      "Test result: tf.Tensor([  17    4   20   22    1    2 1677], shape=(7,), dtype=int64)\n"
     ]
    },
    {
     "name": "stderr",
     "output_type": "stream",
     "text": [
      "\n",
      "User settings:\n",
      "\n",
      "   KMP_AFFINITY=granularity=fine,verbose,compact,1,0\n",
      "   KMP_BLOCKTIME=0\n",
      "   KMP_SETTINGS=1\n",
      "   KMP_WARNINGS=0\n",
      "\n",
      "Effective settings:\n",
      "\n",
      "   KMP_ABORT_DELAY=0\n",
      "   KMP_ADAPTIVE_LOCK_PROPS='1,1024'\n",
      "   KMP_ALIGN_ALLOC=64\n",
      "   KMP_ALL_THREADPRIVATE=128\n",
      "   KMP_ATOMIC_MODE=2\n",
      "   KMP_BLOCKTIME=0\n",
      "   KMP_CPUINFO_FILE: value is not defined\n",
      "   KMP_DETERMINISTIC_REDUCTION=false\n",
      "   KMP_DEVICE_THREAD_LIMIT=2147483647\n",
      "   KMP_DISP_NUM_BUFFERS=7\n",
      "   KMP_DUPLICATE_LIB_OK=false\n",
      "   KMP_ENABLE_TASK_THROTTLING=true\n",
      "   KMP_FORCE_REDUCTION: value is not defined\n",
      "   KMP_FOREIGN_THREADS_THREADPRIVATE=true\n",
      "   KMP_FORKJOIN_BARRIER='2,2'\n",
      "   KMP_FORKJOIN_BARRIER_PATTERN='hyper,hyper'\n",
      "   KMP_GTID_MODE=3\n",
      "   KMP_HANDLE_SIGNALS=false\n",
      "   KMP_HOT_TEAMS_MAX_LEVEL=1\n",
      "   KMP_HOT_TEAMS_MODE=0\n",
      "   KMP_INIT_AT_FORK=true\n",
      "   KMP_LIBRARY=throughput\n",
      "   KMP_LOCK_KIND=queuing\n",
      "   KMP_MALLOC_POOL_INCR=1M\n",
      "   KMP_NUM_LOCKS_IN_BLOCK=1\n",
      "   KMP_PLAIN_BARRIER='2,2'\n",
      "   KMP_PLAIN_BARRIER_PATTERN='hyper,hyper'\n",
      "   KMP_REDUCTION_BARRIER='1,1'\n",
      "   KMP_REDUCTION_BARRIER_PATTERN='hyper,hyper'\n",
      "   KMP_SCHEDULE='static,balanced;guided,iterative'\n",
      "   KMP_SETTINGS=true\n",
      "   KMP_SPIN_BACKOFF_PARAMS='4096,100'\n",
      "   KMP_STACKOFFSET=64\n",
      "   KMP_STACKPAD=0\n",
      "   KMP_STACKSIZE=8M\n",
      "   KMP_STORAGE_MAP=false\n",
      "   KMP_TASKING=2\n",
      "   KMP_TASKLOOP_MIN_TASKS=0\n",
      "   KMP_TASK_STEALING_CONSTRAINT=1\n",
      "   KMP_TEAMS_THREAD_LIMIT=4\n",
      "   KMP_TOPOLOGY_METHOD=all\n",
      "   KMP_USE_YIELD=1\n",
      "   KMP_VERSION=false\n",
      "   KMP_WARNINGS=false\n",
      "   OMP_AFFINITY_FORMAT='OMP: pid %P tid %i thread %n bound to OS proc set {%A}'\n",
      "   OMP_ALLOCATOR=omp_default_mem_alloc\n",
      "   OMP_CANCELLATION=false\n",
      "   OMP_DEFAULT_DEVICE=0\n",
      "   OMP_DISPLAY_AFFINITY=false\n",
      "   OMP_DISPLAY_ENV=false\n",
      "   OMP_DYNAMIC=false\n",
      "   OMP_MAX_ACTIVE_LEVELS=1\n",
      "   OMP_MAX_TASK_PRIORITY=0\n",
      "   OMP_NESTED: deprecated; max-active-levels-var=1\n",
      "   OMP_NUM_THREADS: value is not defined\n",
      "   OMP_PLACES: value is not defined\n",
      "   OMP_PROC_BIND='intel'\n",
      "   OMP_SCHEDULE='static'\n",
      "   OMP_STACKSIZE=8M\n",
      "   OMP_TARGET_OFFLOAD=DEFAULT\n",
      "   OMP_THREAD_LIMIT=2147483647\n",
      "   OMP_WAIT_POLICY=PASSIVE\n",
      "   KMP_AFFINITY='verbose,warnings,respect,granularity=fine,compact,1,0'\n",
      "\n",
      "2022-01-29 07:24:40.080994: I tensorflow/core/common_runtime/process_util.cc:146] Creating new thread pool with default inter op setting: 2. Tune using inter_op_parallelism_threads for best performance.\n"
     ]
    }
   ],
   "source": [
    "import numpy as np\n",
    "import tensorflow as tf\n",
    "import pandas as pd\n",
    "import tensorflow.keras as keras\n",
    "import os\n",
    "from collections import Counter\n",
    "\n",
    "filename = \"/kaggle/input/worldnews-on-reddit/reddit_worldnews_start_to_2016-11-22.csv\"\n",
    "df = pd.read_csv(filename, usecols=['title', 'over_18'], dtype={'title': 'str', 'over_18': 'int32'})\n",
    "dfX = df.loc[:, 'title']\n",
    "dfY = df.loc[:, 'over_18']\n",
    "dfX = dfX[:10000]\n",
    "dfY = dfY[:10000]\n",
    "\n",
    "vocabulary = Counter()\n",
    "for title in dfX:\n",
    "    words = title.split()\n",
    "    validWords = filter(lambda x: len(x) <= 10, words)\n",
    "    vocabulary.update(validWords)\n",
    "\n",
    "# Truncate vocabulary\n",
    "vocab_size = 1000\n",
    "truncatedVocabulary = [word for word, count in vocabulary.most_common()[:vocab_size]]\n",
    "\n",
    "# Print out the 10 most common words and the number of times they occur\n",
    "print(\"Most common words:\", vocabulary.most_common()[:10])\n",
    "\n",
    "# Convert words to tensor\n",
    "words = tf.constant(truncatedVocabulary)\n",
    "\n",
    "# Assign each word an ID\n",
    "word_ids = tf.range(len(truncatedVocabulary), dtype=tf.int64)\n",
    "\n",
    "# Create KeyValueTensor\n",
    "vocab_init = tf.lookup.KeyValueTensorInitializer(words, word_ids)\n",
    "\n",
    "# Create lookup table\n",
    "num_oov_buckets = 1000\n",
    "table = tf.lookup.StaticVocabularyTable(vocab_init, num_oov_buckets)\n",
    "\n",
    "# Test the lookup table\n",
    "testArr = \"China and Iraq are in the dataset\".split()\n",
    "testRes = table.lookup(tf.constant(testArr))\n",
    "print(\"Test result:\", testRes)"
   ]
  },
  {
   "cell_type": "code",
   "execution_count": 2,
   "id": "bf815ce7",
   "metadata": {
    "execution": {
     "iopub.execute_input": "2022-01-29T07:24:40.175319Z",
     "iopub.status.busy": "2022-01-29T07:24:40.174387Z",
     "iopub.status.idle": "2022-01-29T07:25:03.889589Z",
     "shell.execute_reply": "2022-01-29T07:25:03.889042Z",
     "shell.execute_reply.started": "2022-01-29T07:08:22.780304Z"
    },
    "papermill": {
     "duration": 23.724412,
     "end_time": "2022-01-29T07:25:03.889731",
     "exception": false,
     "start_time": "2022-01-29T07:24:40.165319",
     "status": "completed"
    },
    "tags": []
   },
   "outputs": [],
   "source": [
    "# Convert sentences to arrays of word ids\n",
    "data = []\n",
    "for title in dfX:\n",
    "    sample = tf.strings.split(title)\n",
    "    processed = table.lookup(sample)\n",
    "    data.append(processed.numpy())\n",
    "\n",
    "# Create a ragged tensor and then convert it to a padded dense tensor\n",
    "ragged = tf.ragged.constant(data)\n",
    "ragged = ragged.to_tensor(default_value=0)\n",
    "#print(ragged)\n",
    "#print(ragged.shape)\n",
    "\n",
    "# TODO - Make into 2d tensor\n",
    "#features1 = tf.constant([[1, 3], [2, 1], [3, 3]]) # ==> 3x2 tensor\n",
    "#print(features1.shape)\n",
    "#labels1 = tf.constant(['A', 'B', 'A']) # ==> 3x1 tensor\n",
    "#print(labels1.shape)\n",
    "#test = tf.data.Dataset.from_tensor_slices((features1, labels1))\n",
    "#print(next(test.batch(32).as_numpy_iterator())[0])\n",
    "\n",
    "features = tf.constant(ragged)\n",
    "#print(features.shape)\n",
    "labels = tf.constant(dfY)\n",
    "#print(labels.shape)\n",
    "train_set = tf.data.Dataset.from_tensor_slices((features, labels)).batch(32)\n",
    "#print(next(train_set.batch(32).as_numpy_iterator())[0][0])\n"
   ]
  },
  {
   "cell_type": "code",
   "execution_count": 3,
   "id": "fdddc935",
   "metadata": {
    "execution": {
     "iopub.execute_input": "2022-01-29T07:25:03.910156Z",
     "iopub.status.busy": "2022-01-29T07:25:03.909453Z",
     "iopub.status.idle": "2022-01-29T07:27:43.087594Z",
     "shell.execute_reply": "2022-01-29T07:27:43.086527Z",
     "shell.execute_reply.started": "2022-01-29T07:08:50.363268Z"
    },
    "papermill": {
     "duration": 159.191799,
     "end_time": "2022-01-29T07:27:43.087750",
     "exception": false,
     "start_time": "2022-01-29T07:25:03.895951",
     "status": "completed"
    },
    "tags": []
   },
   "outputs": [
    {
     "name": "stdout",
     "output_type": "stream",
     "text": [
      "Epoch 1/5\n"
     ]
    },
    {
     "name": "stderr",
     "output_type": "stream",
     "text": [
      "2022-01-29 07:25:06.824428: I tensorflow/compiler/mlir/mlir_graph_optimization_pass.cc:185] None of the MLIR Optimization Passes are enabled (registered 2)\n"
     ]
    },
    {
     "name": "stdout",
     "output_type": "stream",
     "text": [
      "313/313 [==============================] - 35s 99ms/step - loss: 0.0136 - accuracy: 0.9997\n",
      "Epoch 2/5\n",
      "313/313 [==============================] - 31s 98ms/step - loss: 0.0030 - accuracy: 0.9997\n",
      "Epoch 3/5\n",
      "313/313 [==============================] - 31s 99ms/step - loss: 0.0029 - accuracy: 0.9997\n",
      "Epoch 4/5\n",
      "313/313 [==============================] - 31s 98ms/step - loss: 0.0028 - accuracy: 0.9997\n",
      "Epoch 5/5\n",
      "313/313 [==============================] - 31s 98ms/step - loss: 0.0026 - accuracy: 0.9997\n"
     ]
    }
   ],
   "source": [
    "# Create model\n",
    "embed_size = 128\n",
    "model = keras.models.Sequential([\n",
    "    keras.layers.Embedding(vocab_size + num_oov_buckets, embed_size, input_shape=[None]),\n",
    "    keras.layers.GRU(128, return_sequences=True),\n",
    "    keras.layers.GRU(128),\n",
    "    keras.layers.Dense(1, activation=\"sigmoid\")\n",
    "])\n",
    "model.compile(loss=\"binary_crossentropy\", optimizer=\"adam\", metrics=[\"accuracy\"])\n",
    "history = model.fit(train_set, batch_size=32, epochs=5)\n",
    "\n"
   ]
  },
  {
   "cell_type": "code",
   "execution_count": 4,
   "id": "1baf922a",
   "metadata": {
    "execution": {
     "iopub.execute_input": "2022-01-29T07:27:44.045606Z",
     "iopub.status.busy": "2022-01-29T07:27:44.044962Z",
     "iopub.status.idle": "2022-01-29T07:27:44.837569Z",
     "shell.execute_reply": "2022-01-29T07:27:44.837008Z",
     "shell.execute_reply.started": "2022-01-29T07:23:42.439075Z"
    },
    "papermill": {
     "duration": 1.274227,
     "end_time": "2022-01-29T07:27:44.837711",
     "exception": false,
     "start_time": "2022-01-29T07:27:43.563484",
     "status": "completed"
    },
    "tags": []
   },
   "outputs": [
    {
     "name": "stdout",
     "output_type": "stream",
     "text": [
      "testing:  tf.Tensor([ 856 1092 1714 1226 1615], shape=(5,), dtype=int64)\n",
      "prediction: [[0.46560842]\n",
      " [0.46780932]\n",
      " [0.43600795]\n",
      " [0.41654137]\n",
      " [0.42808723]]\n",
      "(5, 1)\n",
      "avg: [0.44281083]\n"
     ]
    }
   ],
   "source": [
    "testArr = tf.strings.split(\"Sex sexual dildo bag tits\")\n",
    "test = table.lookup(testArr)\n",
    "print(\"testing: \", test)\n",
    "prediction = model.predict(test)\n",
    "print(\"prediction:\", prediction)\n",
    "print(prediction.shape)\n",
    "print(\"avg:\", np.average(prediction, axis=0))"
   ]
  },
  {
   "cell_type": "code",
   "execution_count": null,
   "id": "90ecf7ef",
   "metadata": {
    "papermill": {
     "duration": 0.472722,
     "end_time": "2022-01-29T07:27:45.788942",
     "exception": false,
     "start_time": "2022-01-29T07:27:45.316220",
     "status": "completed"
    },
    "tags": []
   },
   "outputs": [],
   "source": []
  }
 ],
 "metadata": {
  "kernelspec": {
   "display_name": "Python 3",
   "language": "python",
   "name": "python3"
  },
  "language_info": {
   "codemirror_mode": {
    "name": "ipython",
    "version": 3
   },
   "file_extension": ".py",
   "mimetype": "text/x-python",
   "name": "python",
   "nbconvert_exporter": "python",
   "pygments_lexer": "ipython3",
   "version": "3.7.12"
  },
  "papermill": {
   "default_parameters": {},
   "duration": 207.75526,
   "end_time": "2022-01-29T07:27:49.718859",
   "environment_variables": {},
   "exception": null,
   "input_path": "__notebook__.ipynb",
   "output_path": "__notebook__.ipynb",
   "parameters": {},
   "start_time": "2022-01-29T07:24:21.963599",
   "version": "2.3.3"
  }
 },
 "nbformat": 4,
 "nbformat_minor": 5
}
